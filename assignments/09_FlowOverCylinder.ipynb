{
 "cells": [
  {
   "cell_type": "code",
   "execution_count": 4,
   "metadata": {
    "collapsed": true
   },
   "outputs": [],
   "source": [
    "import math\n",
    "import numpy\n",
    "from scipy import integrate\n",
    "from matplotlib import pyplot"
   ]
  },
  {
   "cell_type": "code",
   "execution_count": 2,
   "metadata": {
    "collapsed": true
   },
   "outputs": [],
   "source": [
    "u_inf = 1.0             # free-stream speed"
   ]
  },
  {
   "cell_type": "markdown",
   "metadata": {},
   "source": [
    "## Geometry"
   ]
  },
  {
   "cell_type": "code",
   "execution_count": 3,
   "metadata": {
    "collapsed": false
   },
   "outputs": [
    {
     "data": {
      "image/png": "[encoded data removed]",
      "text/plain": [
       "<matplotlib.figure.Figure at 0x106e56b90>"
      ]
     },
     "metadata": {},
     "output_type": "display_data"
    }
   ],
   "source": [
    "# defines the cylinder\n",
    "R = 1.0                                                     # radius\n",
    "theta = numpy.linspace(0, 2*math.pi, 100)                           # angles in radians\n",
    "x_cylinder, y_cylinder = R*numpy.cos(theta), R*numpy.sin(theta)   # coordinates of the cylinder\n",
    "\n",
    "# plots the cylinder\n",
    "%matplotlib inline\n",
    "\n",
    "size = 4\n",
    "pyplot.figure(figsize=(size, size))\n",
    "pyplot.grid(True)\n",
    "pyplot.xlabel('x', fontsize=16)\n",
    "pyplot.ylabel('y', fontsize=16)\n",
    "pyplot.plot(x_cylinder, y_cylinder, color='b', linestyle='-', linewidth=2)\n",
    "pyplot.xlim(-1.1, 1.1)\n",
    "pyplot.ylim(-1.1, 1.1);"
   ]
  },
  {
   "cell_type": "markdown",
   "metadata": {},
   "source": [
    "## Set the panels"
   ]
  },
  {
   "cell_type": "code",
   "execution_count": 4,
   "metadata": {
    "collapsed": true
   },
   "outputs": [],
   "source": [
    "class Panel:\n",
    "    \"\"\"Contains information related to a panel.\"\"\"\n",
    "    def __init__(self, xa, ya, xb, yb):\n",
    "        \"\"\"Initializes the panel.\n",
    "        \n",
    "        Arguments\n",
    "        ---------\n",
    "        xa, ya -- coordinates of the first end-point of the panel.\n",
    "        xb, yb -- coordinates of the second end-point of the panel.\n",
    "        \"\"\"\n",
    "        self.xa, self.ya = xa, ya\n",
    "        self.xb, self.yb = xb, yb\n",
    "        \n",
    "        self.xc, self.yc = (xa+xb)/2, (ya+yb)/2       # control-point (center-point)\n",
    "        self.length = math.sqrt((xb-xa)**2+(yb-ya)**2)     # length of the panel\n",
    "        \n",
    "        # orientation of the panel (angle between x-axis and panel's normal)\n",
    "        if xb-xa <= 0.:\n",
    "            self.beta = math.acos((yb-ya)/self.length)\n",
    "        elif xb-xa > 0.:\n",
    "            self.beta = math.pi + math.acos(-(yb-ya)/self.length)\n",
    "        \n",
    "        self.sigma = 0.                             # source strength\n",
    "        self.vt = 0.                                # tangential velocity\n",
    "        self.cp = 0.                                # pressure coefficient"
   ]
  },
  {
   "cell_type": "code",
   "execution_count": 5,
   "metadata": {
    "collapsed": true
   },
   "outputs": [],
   "source": [
    "N_panels = 10                    # number of panels desired\n",
    "\n",
    "# defining the end-points of the panels\n",
    "x_ends = R*numpy.cos(numpy.linspace(0, 2*math.pi, N_panels+1))\n",
    "y_ends = R*numpy.sin(numpy.linspace(0, 2*math.pi, N_panels+1))\n",
    "\n",
    "# defining the panels\n",
    "panels = numpy.empty(N_panels, dtype=object)\n",
    "for i in xrange(N_panels):\n",
    "    panels[i] = Panel(x_ends[i], y_ends[i], x_ends[i+1], y_ends[i+1])"
   ]
  },
  {
   "cell_type": "markdown",
   "metadata": {},
   "source": [
    "## Solve linear sys for Panel Strength"
   ]
  },
  {
   "cell_type": "code",
   "execution_count": 6,
   "metadata": {
    "collapsed": true
   },
   "outputs": [],
   "source": [
    "def integral_normal(p_i, p_j):\n",
    "    \"\"\"Evaluates the contribution of a panel at the center-point of another,\n",
    "    in the normal direction.\n",
    "    \n",
    "    Arguments\n",
    "    ---------\n",
    "    p_i -- panel on which the contribution is calculated.\n",
    "    p_j -- panel from which the contribution is calculated.\n",
    "    \n",
    "    Returns\n",
    "    -------\n",
    "    Integral over the panel of the influence at a control-point.\n",
    "    \"\"\"\n",
    "    def func(s):\n",
    "\t\treturn ( (+(p_i.xc-(p_j.xa-math.sin(p_j.beta)*s))*math.cos(p_i.beta)\n",
    "                  +(p_i.yc-(p_j.ya+math.cos(p_j.beta)*s))*math.sin(p_i.beta))\n",
    "                /((p_i.xc-(p_j.xa-math.sin(p_j.beta)*s))**2\n",
    "                  +(p_i.yc-(p_j.ya+math.cos(p_j.beta)*s))**2) )\n",
    "    return integrate.quad(lambda s:func(s), 0., p_j.length)[0]"
   ]
  },
  {
   "cell_type": "code",
   "execution_count": 7,
   "metadata": {
    "collapsed": true
   },
   "outputs": [],
   "source": [
    "# computes the source influence matrix\n",
    "A = numpy.empty((N_panels, N_panels), dtype=float)\n",
    "numpy.fill_diagonal(A, 0.5)\n",
    "\n",
    "for i, p_i in enumerate(panels):\n",
    "    for j, p_j in enumerate(panels):\n",
    "        if i != j:\n",
    "            A[i,j] = 0.5/math.pi*integral_normal(p_i, p_j)\n",
    "\n",
    "# computes the RHS of the linear system\n",
    "b = - u_inf * numpy.cos([p.beta for p in panels])"
   ]
  },
  {
   "cell_type": "code",
   "execution_count": 8,
   "metadata": {
    "collapsed": true
   },
   "outputs": [],
   "source": [
    "# solves the linear system\n",
    "sigma = numpy.linalg.solve(A, b)\n",
    "\n",
    "for i, panel in enumerate(panels):\n",
    "\tpanel.sigma = sigma[i]"
   ]
  },
  {
   "cell_type": "code",
   "execution_count": 11,
   "metadata": {
    "collapsed": false
   },
   "outputs": [
    {
     "name": "stdout",
     "output_type": "stream",
     "text": [
      "-1.33226762955e-15\n"
     ]
    }
   ],
   "source": [
    "print sum(sigma)"
   ]
  },
  {
   "cell_type": "markdown",
   "metadata": {},
   "source": [
    "### Solve for velocity Field"
   ]
  },
  {
   "cell_type": "code",
   "execution_count": 15,
   "metadata": {
    "collapsed": true
   },
   "outputs": [],
   "source": [
    "# define the domain\n",
    "# define the domain\n",
    "N = 100                               # Number of points in each direction\n",
    "x_start, x_end = -5.0, 5.0            # x-direction boundaries\n",
    "y_start, y_end = -3., 3.            # y-direction boundaries\n",
    "x = numpy.linspace(x_start, x_end, N)    # computes a 1D-array for x\n",
    "y = numpy.linspace(y_start, y_end, N)    # computes a 1D-array for y\n",
    "X, Y = numpy.meshgrid(x, y)              # generates a mesh grid"
   ]
  },
  {
   "cell_type": "code",
   "execution_count": 26,
   "metadata": {
    "collapsed": true
   },
   "outputs": [],
   "source": [
    "def sum_integral_vel(panels, x, y):\n",
    "    \"\"\"Given a point, calculate the velocity induced by panels\n",
    "    \"\"\"\n",
    "    u = 0.\n",
    "    v = 0.\n",
    "    for panel in panels:\n",
    "        def func_x(s):\n",
    "            return 2*(x-(panel.xa-numpy.sin(panel.beta)*s)) / \\\n",
    "                    ((x-(panel.xa-numpy.sin(panel.beta)*s))**2 +\\\n",
    "                     (y-(panel.ya+numpy.cos(panel.beta)*s))) \n",
    "        def func_y(s):\n",
    "            return 2*(y-(panel.ya+numpy.cos(panel.beta)*s)) / \\\n",
    "                    ((x-(panel.xa-numpy.sin(panel.beta)*s))**2 +\\\n",
    "                     (y-(panel.ya+numpy.cos(panel.beta)*s)))         \n",
    "        u += panel.sigma/(4*numpy.pi) * integrate.quad(lambda s:func_x(s), 0, panel.length)[0]\n",
    "        #v += panel.sigma/(4*numpy.pi) * integrate.quad(lambda s:func_y(s), 0, panel.length)[0]\n",
    "    return u, v"
   ]
  },
  {
   "cell_type": "code",
   "execution_count": 7,
   "metadata": {
    "collapsed": false
   },
   "outputs": [],
   "source": [
    "?integrate"
   ]
  },
  {
   "cell_type": "code",
   "execution_count": 28,
   "metadata": {
    "collapsed": false
   },
   "outputs": [
    {
     "name": "stderr",
     "output_type": "stream",
     "text": [
      "/Library/Python/2.7/site-packages/IPython/kernel/__main__.py:8: RuntimeWarning: divide by zero encountered in double_scalars\n",
      "/Library/Python/2.7/site-packages/scipy/integrate/quadpack.py:352: IntegrationWarning: Extremely bad integrand behavior occurs at some points of the\n",
      "  integration interval.\n",
      "  warnings.warn(msg, IntegrationWarning)\n"
     ]
    }
   ],
   "source": [
    "U = numpy.zeros_like(X)\n",
    "V = numpy.zeros_like(X)\n",
    "# x index\n",
    "for i in range(N):\n",
    "    for j in range(N):\n",
    "        x,y = X[i,j], Y[i,j]\n",
    "        u,v = sum_integral_vel(panels, x, y)\n",
    "        U[i,j], V[i,j] = u,v"
   ]
  },
  {
   "cell_type": "code",
   "execution_count": 13,
   "metadata": {
    "collapsed": true
   },
   "outputs": [],
   "source": [
    "def distance(a,b):\n",
    "    \"\"\"Return the distance bwt two points.\n",
    "    \n",
    "    Arguments:\n",
    "        a, b: sdf\n",
    "    \n",
    "    Return:\n",
    "        distance\n",
    "    \"\"\"\n",
    "    return numpy.sqrt(a**2-b**2)"
   ]
  },
  {
   "cell_type": "code",
   "execution_count": 14,
   "metadata": {
    "collapsed": true
   },
   "outputs": [],
   "source": [
    "?distance"
   ]
  },
  {
   "cell_type": "code",
   "execution_count": null,
   "metadata": {
    "collapsed": true
   },
   "outputs": [],
   "source": []
  }
 ],
 "metadata": {
  "kernelspec": {
   "display_name": "Python 2",
   "language": "python",
   "name": "python2"
  },
  "language_info": {
   "codemirror_mode": {
    "name": "ipython",
    "version": 2
   },
   "file_extension": ".py",
   "mimetype": "text/x-python",
   "name": "python",
   "nbconvert_exporter": "python",
   "pygments_lexer": "ipython2",
   "version": "2.7.6"
  }
 },
 "nbformat": 4,
 "nbformat_minor": 0
}
