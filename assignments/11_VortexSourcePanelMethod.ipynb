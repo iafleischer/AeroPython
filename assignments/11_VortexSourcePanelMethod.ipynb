{
 "cells": [
  {
   "cell_type": "code",
   "execution_count": 52,
   "metadata": {
    "collapsed": false
   },
   "outputs": [],
   "source": [
    "import numpy\n",
    "from scipy import integrate\n",
    "from matplotlib import pyplot\n",
    "%matplotlib inline"
   ]
  },
  {
   "cell_type": "code",
   "execution_count": 53,
   "metadata": {
    "collapsed": false
   },
   "outputs": [],
   "source": [
    "x,y = numpy.loadtxt('resources/naca0012.dat', dtype=float, delimiter='\\t', unpack=True)"
   ]
  },
  {
   "cell_type": "markdown",
   "metadata": {},
   "source": [
    "####Plot the airfoil"
   ]
  },
  {
   "cell_type": "code",
   "execution_count": 54,
   "metadata": {
    "collapsed": true
   },
   "outputs": [],
   "source": [
    "x_air_min, x_air_max = numpy.min(x), numpy.max(x)\n",
    "y_air_min, y_air_max = numpy.min(y), numpy.max(y)"
   ]
  },
  {
   "cell_type": "code",
   "execution_count": 55,
   "metadata": {
    "collapsed": true
   },
   "outputs": [],
   "source": [
    "size = 12\n",
    "scale = 0.4\n",
    "x_left, x_right = x_air_min-scale*(x_air_max-x_air_min), x_air_max+scale*(x_air_max-x_air_min)\n",
    "y_down, y_up = y_air_min-scale*(y_air_max-y_air_min), y_air_max+scale*(y_air_max-y_air_min)"
   ]
  },
  {
   "cell_type": "code",
   "execution_count": 56,
   "metadata": {
    "collapsed": false
   },
   "outputs": [
    {
     "data": {
      "image/png": "[encoded data removed]",
      "text/plain": [
       "<matplotlib.figure.Figure at 0x10fcee290>"
      ]
     },
     "metadata": {},
     "output_type": "display_data"
    }
   ],
   "source": [
    "pyplot.figure(figsize=(size, size*(y_up-y_down)/(x_right-x_left)))\n",
    "pyplot.grid(True)\n",
    "pyplot.xlabel(r'$x$')\n",
    "pyplot.ylabel(r'$y$')\n",
    "pyplot.title('NACA0012')\n",
    "pyplot.xlim(x_left, x_right)\n",
    "pyplot.ylim(y_down, y_up)\n",
    "pyplot.plot(x, y, 'r-');"
   ]
  },
  {
   "cell_type": "markdown",
   "metadata": {},
   "source": [
    "#### Define the panel class"
   ]
  },
  {
   "cell_type": "code",
   "execution_count": 57,
   "metadata": {
    "collapsed": true
   },
   "outputs": [],
   "source": [
    "class Panel:\n",
    "    def __init__(self, xa, ya, xb, yb):\n",
    "        self.xa, self.ya = xa, ya\n",
    "        self.xb, self.yb = xb, yb\n",
    "        self.xc, self.yc = (xa+xb)/2, (ya+yb)/2\n",
    "        self.length = numpy.sqrt((xb-xa)**2+(yb-ya)**2)\n",
    "        if xb-xa <= 0.:\n",
    "            self.beta = numpy.arccos((yb-ya)/self.length)\n",
    "        elif xb-xa > 0.:\n",
    "            self.beta = numpy.pi + numpy.arccos(-(yb-ya)/self.length)\n",
    "        if self.beta <= numpy.pi:\n",
    "            self.loc = 'extrados'\n",
    "        else:\n",
    "            self.loc = 'intrados'\n",
    "        \n",
    "        self.sigma = 0.\n",
    "        self.vt = 0.\n",
    "        self.cp = 0."
   ]
  },
  {
   "cell_type": "markdown",
   "metadata": {},
   "source": [
    "#### Generate panels from airfoil data"
   ]
  },
  {
   "cell_type": "code",
   "execution_count": 58,
   "metadata": {
    "collapsed": true
   },
   "outputs": [],
   "source": [
    "def gen_panels(x, y, N=40):\n",
    "    R = (x.max()-x.min())/2  \n",
    "    x_center = (x.max()+x.min())/2      \n",
    "    x_circle = x_center + R*numpy.cos(numpy.linspace(0, 2*numpy.pi, N+1))\n",
    "    \n",
    "    x_ends = numpy.copy(x_circle)\n",
    "    y_ends = numpy.empty_like(x_ends)\n",
    "    x, y = numpy.append(x, x[0]), numpy.append(y, y[0])\n",
    "    \n",
    "    I = 0\n",
    "    for i in xrange(N):\n",
    "        while I < len(x)-1:\n",
    "            if (x[I] <= x_ends[i] <= x[I+1]) or (x[I+1] <= x_ends[i] <= x[I]):\n",
    "                break\n",
    "            else:\n",
    "                I += 1\n",
    "        a = (y[I+1]-y[I])/(x[I+1]-x[I])\n",
    "        b = y[I+1] - a*x[I+1]\n",
    "        y_ends[i] = a*x_ends[i] + b\n",
    "    y_ends[N] = y_ends[0]\n",
    "    \n",
    "    panels = numpy.empty(N, dtype=object)\n",
    "    for i in xrange(N):\n",
    "        panels[i] = Panel(x_ends[i], y_ends[i], x_ends[i+1], y_ends[i+1])\n",
    "    \n",
    "    return panels"
   ]
  },
  {
   "cell_type": "code",
   "execution_count": 59,
   "metadata": {
    "collapsed": true
   },
   "outputs": [],
   "source": [
    "N = 40\n",
    "panels= gen_panels(x, y, N)"
   ]
  },
  {
   "cell_type": "code",
   "execution_count": 60,
   "metadata": {
    "collapsed": false
   },
   "outputs": [
    {
     "name": "stdout",
     "output_type": "stream",
     "text": [
      "1.23909922155 5.04408608563\n",
      "0.94549104629\n"
     ]
    }
   ],
   "source": [
    "print panels[0].beta, panels[-1].beta\n",
    "print numpy.sin(-5.04408608563)"
   ]
  },
  {
   "cell_type": "code",
   "execution_count": 61,
   "metadata": {
    "collapsed": false
   },
   "outputs": [
    {
     "data": {
      "image/png": "[encoded data removed]",
      "text/plain": [
       "<matplotlib.figure.Figure at 0x10fcee3d0>"
      ]
     },
     "metadata": {},
     "output_type": "display_data"
    }
   ],
   "source": [
    "pyplot.figure(figsize=(size, size*(y_up-y_down)/(x_right-x_left)))\n",
    "pyplot.grid(True)\n",
    "pyplot.xlabel(r'$x$')\n",
    "pyplot.ylabel(r'$y$')\n",
    "pyplot.title('NACA0012 panels')\n",
    "pyplot.xlim(x_left, x_right)\n",
    "pyplot.ylim(y_down, y_up)\n",
    "pyplot.plot(x, y, 'r-')\n",
    "pyplot.plot([panel.xa for panel in panels], [panel.ya for panel in panels], 'go', alpha=0.5);"
   ]
  },
  {
   "cell_type": "markdown",
   "metadata": {},
   "source": [
    "#### Generate Freestream Conditions"
   ]
  },
  {
   "cell_type": "code",
   "execution_count": 62,
   "metadata": {
    "collapsed": true
   },
   "outputs": [],
   "source": [
    "class Freestream:\n",
    "    def __init__(self, u_inf=1.0, alpha=0.0):\n",
    "        self.u_inf = u_inf\n",
    "        self.alpha = alpha*numpy.pi/180"
   ]
  },
  {
   "cell_type": "code",
   "execution_count": 63,
   "metadata": {
    "collapsed": true
   },
   "outputs": [],
   "source": [
    "u_inf = 1.0\n",
    "alpha = 4.0\n",
    "freestream = Freestream(u_inf, alpha)"
   ]
  },
  {
   "cell_type": "markdown",
   "metadata": {},
   "source": [
    "#### Flow tangency boundary condition at each center"
   ]
  },
  {
   "cell_type": "markdown",
   "metadata": {},
   "source": [
    "$$\n",
    "\\begin{align*}\n",
    "\\phi\\left(x_{c_i},y_{c_i}\\right) &= V_\\infty x_{c_i} \\cos \\alpha + V_\\infty y_{c_i} \\sin \\alpha \\\\\n",
    "&+ \\sum_{j=1}^N \\frac{\\sigma_j}{2\\pi} \\int_j \\ln \\left(\\sqrt{(x_{c_i}-x_j(s_j))^2+(y_{c_i}-y_j(s_j))^2} \\right) {\\rm d}s_j \\\\\n",
    "&- \\sum_{j=1}^N \\frac{\\gamma}{2\\pi} \\int_j \\tan^{-1} \\left(\\frac{y_{c_i}-y_j(s_j)}{x_{c_i}-x_j(s_j)}\\right) {\\rm d}s_j\n",
    "\\end{align*}\n",
    "$$"
   ]
  },
  {
   "cell_type": "markdown",
   "metadata": {},
   "source": [
    "$$0 = \\underline{V}\\cdot\\underline{n}_i = \\frac{\\partial}{\\partial n_i} \\left\\{ \\phi\\left(x_{c_i},y_{c_i}\\right) \\right\\}$$"
   ]
  },
  {
   "cell_type": "markdown",
   "metadata": {},
   "source": [
    "$$\\frac{\\partial}{\\partial n_i} \\ln \\left(\\sqrt{(x_{c_i}-x_j(s_j))^2+(y_{c_i}-y_j(s_j))^2} \\right) = \\frac{\\left(x_{c_i}-x_j\\right)\\frac{\\partial x_{c_i}}{\\partial n_i} + \\left(y_{c_i}-y_j\\right)\\frac{\\partial y_{c_i}}{\\partial n_i}}{\\left(x_{c_i}-x_j\\right)^2 + \\left(x_{c_i}-x_j\\right)^2}$$"
   ]
  },
  {
   "cell_type": "markdown",
   "metadata": {},
   "source": [
    "$$\\frac{\\partial}{\\partial n_i} \\tan^{-1} \\left(\\frac{y_{c_i}-y_j(s_j)}{x_{c_i}-x_j(s_j)}\\right)= \\frac{\\left(x_{c_i}-x_j\\right)\\frac{\\partial y_{c_i}}{\\partial n_i} - \\left(y_{c_i}-y_j\\right)\\frac{\\partial x_{c_i}}{\\partial n_i}}{\\left(x_{c_i}-x_j\\right)^2 + \\left(y_{c_i}-y_j\\right)^2}$$"
   ]
  },
  {
   "cell_type": "markdown",
   "metadata": {},
   "source": [
    "where\n",
    "\n",
    "$$x_j(s_j) = x_{b_j} - s_j \\sin \\beta_j$$\n",
    "\n",
    "$$y_j(s_j) = y_{b_j} + s_j \\cos \\beta_j$$"
   ]
  },
  {
   "cell_type": "markdown",
   "metadata": {},
   "source": [
    "$$\\frac{\\partial x_{c_i}}{\\partial n_i} = \\cos \\beta_i  \\hspace{10mm} \\frac{\\partial y_{c_i}}{\\partial n_i} = \\sin \\beta_i$$"
   ]
  },
  {
   "cell_type": "markdown",
   "metadata": {},
   "source": [
    "If there are $N$ panels, there will be $N+1$ unknowns (source and vortex strength), and there are $N$ equations above. So we still need one more equation. That's Kutta-Condition. "
   ]
  },
  {
   "cell_type": "markdown",
   "metadata": {},
   "source": [
    "#### Enforcing Kutta-condition"
   ]
  },
  {
   "cell_type": "markdown",
   "metadata": {},
   "source": [
    "To enforce the *Kutta-condition*, we state that the pressure coefficient on the fisrt panel must be equal to that on the last panel:\n",
    "\n",
    "$$C_{p_1} = C_{p_{N}}$$\n",
    "\n",
    "Using the definition of the pressure coefficient $C_p = 1-\\left(\\frac{V}{U_\\infty}\\right)^2$, the Kutta-condition implies that the magnitude of the velocity at the first panel center must equal the magnitude of the last panel center:\n",
    "\n",
    "$$V_1^2 = V_N^2$$\n",
    "\n",
    "Since the flow tangency condition requires that $V_{n_1} = V_{n_N} = 0$, we end up with the following *Kutta-condition*:\n",
    "\n",
    "$$V_{t_1} = - V_{t_N}$$\n",
    "\n",
    "(the minus sign comes from the reference axis we chose for the normal and tangential vectors)."
   ]
  },
  {
   "cell_type": "markdown",
   "metadata": {},
   "source": [
    "$$V_{t_i} = \\frac{\\partial}{\\partial t_i} \\left(\\phi\\left(x_{c_i},y_{c_i}\\right)\\right)$$"
   ]
  },
  {
   "cell_type": "markdown",
   "metadata": {},
   "source": [
    "$$\n",
    "\\begin{align*}\n",
    "V_{t_i} &= V_\\infty \\sin \\left(\\alpha-\\beta_i\\right) \\\\\n",
    "&+ \\sum_{j=1,j\\neq i}^N \\frac{\\sigma_j}{2\\pi} \\int_j \\frac{\\left(x_{c_i}-x_j\\right)\\frac{\\partial x_{c_i}}{\\partial t_i} + \\left(y_{c_i}-y_j\\right)\\frac{\\partial y_{c_i}}{\\partial t_i}}{\\left(x_{c_i}-x_j\\right)^2 + \\left(x_{c_i}-x_j\\right)^2} {\\rm d}s_j \\\\\n",
    "&- \\sum_{j=1,j\\neq i}^N \\frac{\\gamma}{2\\pi} \\int_j \\frac{\\left(x_{c_i}-x_j\\right)\\frac{\\partial y_{c_i}}{\\partial t_i} - \\left(y_{c_i}-y_j\\right)\\frac{\\partial x_{c_i}}{\\partial t_i}}{\\left(x_{c_i}-x_j\\right)^2 + \\left(x_{c_i}-x_j\\right)^2} {\\rm d}s_j \\\\\n",
    "&-\\frac{\\gamma}{2}\n",
    "\\end{align*}\n",
    "$$"
   ]
  },
  {
   "cell_type": "markdown",
   "metadata": {},
   "source": [
    "$$\\frac{\\partial x_{c_i}}{\\partial t_i} = -\\sin \\beta_i \\hspace{10mm} \\frac{\\partial y_{c_i}}{\\partial t_i} = \\cos \\beta_i$$"
   ]
  },
  {
   "cell_type": "code",
   "execution_count": 64,
   "metadata": {
    "collapsed": true
   },
   "outputs": [],
   "source": [
    "def integral(x, y, panel, dxdz, dydz):\n",
    "    \"\"\"Return the integral, dz is the direction. x,y are the evaluated point\n",
    "    \"\"\"\n",
    "    def func(s):\n",
    "        return ( ((x - (panel.xa - numpy.sin(panel.beta)*s))*dxdz \n",
    "                  + (y - (panel.ya + numpy.cos(panel.beta)*s))*dydz)\n",
    "                / ((x - (panel.xa - numpy.sin(panel.beta)*s))**2 \n",
    "                   + (y - (panel.ya + numpy.cos(panel.beta)*s))**2) )\n",
    "    return integrate.quad(lambda s:func(s), 0., panel.length)[0]"
   ]
  },
  {
   "cell_type": "markdown",
   "metadata": {},
   "source": [
    "#### Building the linear system"
   ]
  },
  {
   "cell_type": "markdown",
   "metadata": {},
   "source": [
    "$$[A][\\sigma,\\gamma] = [b]$$"
   ]
  },
  {
   "cell_type": "code",
   "execution_count": 65,
   "metadata": {
    "collapsed": true
   },
   "outputs": [],
   "source": [
    "def source_matrix(panels):\n",
    "    A = numpy.empty((panels.size, panels.size), dtype=float)\n",
    "    numpy.fill_diagonal(A, 0.5)\n",
    "    \n",
    "    for i, p_i in enumerate(panels):\n",
    "        for j, p_j in enumerate(panels):\n",
    "            if i != j:\n",
    "                A[i,j] = 0.5/numpy.pi*integral(p_i.xc, p_i.yc, p_j, numpy.cos(p_i.beta), numpy.sin(p_i.beta))\n",
    "    \n",
    "    return A"
   ]
  },
  {
   "cell_type": "code",
   "execution_count": 66,
   "metadata": {
    "collapsed": true
   },
   "outputs": [],
   "source": [
    "def vortex_array(panels):\n",
    "    a = numpy.zeros(panels.size, dtype=float)\n",
    "    \n",
    "    for i, p_i in enumerate(panels):\n",
    "        for j, p_j in enumerate(panels):\n",
    "            if i != j:\n",
    "                a[i] -= 0.5/numpy.pi*integral(p_i.xc, p_i.yc, p_j, numpy.sin(p_i.beta), -numpy.cos(p_i.beta))\n",
    "    return a"
   ]
  },
  {
   "cell_type": "markdown",
   "metadata": {},
   "source": [
    "$$\n",
    "\\begin{align*}\n",
    "V_{t_i} &= V_\\infty \\sin \\left(\\alpha-\\beta_i\\right) \\\\\n",
    "&+ \\sum_{j=1,j\\neq i}^N \\frac{\\sigma_j}{2\\pi} \\int_j \\frac{\\left(x_{c_i}-x_j\\right)\\frac{\\partial x_{c_i}}{\\partial t_i} + \\left(y_{c_i}-y_j\\right)\\frac{\\partial y_{c_i}}{\\partial t_i}}{\\left(x_{c_i}-x_j\\right)^2 + \\left(x_{c_i}-x_j\\right)^2} {\\rm d}s_j \\\\\n",
    "&- \\sum_{j=1,j\\neq i}^N \\frac{\\gamma}{2\\pi} \\int_j \\frac{\\left(x_{c_i}-x_j\\right)\\frac{\\partial y_{c_i}}{\\partial t_i} - \\left(y_{c_i}-y_j\\right)\\frac{\\partial x_{c_i}}{\\partial t_i}}{\\left(x_{c_i}-x_j\\right)^2 + \\left(x_{c_i}-x_j\\right)^2} {\\rm d}s_j \\\\\n",
    "&-\\frac{\\gamma}{2}\n",
    "\\end{align*}\n",
    "$$"
   ]
  },
  {
   "cell_type": "code",
   "execution_count": 67,
   "metadata": {
    "collapsed": true
   },
   "outputs": [],
   "source": [
    "def kutta_array(panels):\n",
    "    \"\"\"Builds the Kutta-condition array.\n",
    "    return a -- 1D array (Nx1, N is the number of panels).\n",
    "    \"\"\"\n",
    "    N = panels.size\n",
    "    a = numpy.zeros(N+1, dtype=float)\n",
    "    # contribution from the source sheet of the first panel on the last one\n",
    "    a[0] = 0.5/numpy.pi*integral(panels[N-1].xc, panels[N-1].yc, panels[0], \n",
    "                           -numpy.sin(panels[N-1].beta), +numpy.cos(panels[N-1].beta))\n",
    "    # contribution from the source sheet of the last panel on the first one\n",
    "    a[N-1] = 0.5/numpy.pi*integral(panels[0].xc, panels[0].yc, panels[N-1], \n",
    "                             -numpy.sin(panels[0].beta), +numpy.cos(panels[0].beta))\n",
    "    # contribution from the vortex sheet of the first panel on the last one\n",
    "    a[N] -= 0.5/numpy.pi*integral(panels[-1].xc, panels[-1].yc, panels[0], \n",
    "                               +numpy.cos(panels[-1].beta), numpy.sin(panels[-1].beta))\n",
    "    # contribution from the vortex sheet of the last panel on the first one\n",
    "    a[N] -= 0.5/numpy.pi*integral(panels[0].xc, panels[0].yc, panels[-1], \n",
    "                               +numpy.cos(panels[0].beta), numpy.sin(panels[0].beta))\n",
    "    # contribution from the vortex sheet of the first panel on itself\n",
    "    a[N] -= 0.5\n",
    "    # contribution from the vortex sheet of the last panel on itself\n",
    "    a[N] -= 0.5\n",
    " \n",
    "    # contribution from the other panels on the first and last ones\n",
    "    for i, panel in enumerate(panels[1:-1]):\n",
    "        # contribution from the source sheet\n",
    "        a[i+1] = 0.5/numpy.pi*(integral(panels[0].xc, panels[0].yc, panel, \n",
    "                               -numpy.sin(panels[0].beta), +numpy.cos(panels[0].beta))\n",
    "                     + integral(panels[N-1].xc, panels[N-1].yc, panel, \n",
    "                               -numpy.sin(panels[N-1].beta), +numpy.cos(panels[N-1].beta)) )\n",
    "\n",
    "        # contribution from the vortex sheet\n",
    "        a[N] -= 0.5/numpy.pi*(integral(panels[0].xc, panels[0].yc, panel, \n",
    "                               +numpy.cos(panels[0].beta), numpy.sin(panels[0].beta))\n",
    "                             + integral(panels[-1].xc, panels[-1].yc, panel, \n",
    "                               +numpy.cos(panels[-1].beta), numpy.sin(panels[-1].beta)) )\n",
    "        \n",
    "    return a"
   ]
  },
  {
   "cell_type": "code",
   "execution_count": 68,
   "metadata": {
    "collapsed": true
   },
   "outputs": [],
   "source": [
    "def build_matrix(panels):\n",
    "    N = len(panels)\n",
    "    A = numpy.empty((N+1, N+1), dtype=float)\n",
    "    \n",
    "    AS = source_matrix(panels)\n",
    "    av = vortex_array(panels)\n",
    "    ak = kutta_array(panels)\n",
    "    \n",
    "    A[0:N,0:N], A[0:N,N], A[N,:] = AS[:,:], av[:], ak[:]\n",
    "    \n",
    "    return A"
   ]
  },
  {
   "cell_type": "code",
   "execution_count": 69,
   "metadata": {
    "collapsed": true
   },
   "outputs": [],
   "source": [
    "def build_rhs(panels, freestream):\n",
    "    N = len(panels)\n",
    "    b = numpy.empty(N+1,dtype=float)\n",
    "    \n",
    "    for i, panel in enumerate(panels):\n",
    "        b[i] = - freestream.u_inf * numpy.cos(freestream.alpha - panel.beta)\n",
    "    b[N] = -freestream.u_inf*( numpy.sin(freestream.alpha-panels[0].beta)\n",
    "                              +numpy.sin(freestream.alpha-panels[N-1].beta) )\n",
    "    \n",
    "    return b"
   ]
  },
  {
   "cell_type": "code",
   "execution_count": 70,
   "metadata": {
    "collapsed": true
   },
   "outputs": [],
   "source": [
    "A = build_matrix(panels)\n",
    "b = build_rhs(panels, freestream)"
   ]
  },
  {
   "cell_type": "code",
   "execution_count": 71,
   "metadata": {
    "collapsed": true
   },
   "outputs": [],
   "source": [
    "# solves the linear system\n",
    "solution = numpy.linalg.solve(A, b)\n",
    "\n",
    "for i, panel in enumerate(panels):\n",
    "    panel.sigma = solution[i]\n",
    "gamma = solution[-1]"
   ]
  },
  {
   "cell_type": "markdown",
   "metadata": {},
   "source": [
    "#### Check the accurary"
   ]
  },
  {
   "cell_type": "code",
   "execution_count": 72,
   "metadata": {
    "collapsed": false
   },
   "outputs": [
    {
     "name": "stdout",
     "output_type": "stream",
     "text": [
      "--> sum of source/sink strengths: 0.00460578431939\n"
     ]
    }
   ],
   "source": [
    "# calculates the accuracy\n",
    "accuracy = sum([panel.sigma*panel.length for panel in panels])\n",
    "print '--> sum of source/sink strengths:', accuracy"
   ]
  },
  {
   "cell_type": "markdown",
   "metadata": {},
   "source": [
    "#### Calculate Surface tangential velocity"
   ]
  },
  {
   "cell_type": "code",
   "execution_count": 73,
   "metadata": {
    "collapsed": true
   },
   "outputs": [],
   "source": [
    "def get_tangential_velocity(panels, freestream, gamma):\n",
    "    N = len(panels)\n",
    "    A = numpy.empty((N, N+1), dtype=float)\n",
    "    numpy.fill_diagonal(A, 0.0)\n",
    "    \n",
    "    for i, p_i in enumerate(panels):\n",
    "        # contribution from vortex on itself\n",
    "        A[i, N] = -0.5\n",
    "        for j, p_j in enumerate(panels):\n",
    "            if i != j:\n",
    "                # contribution from the sources\n",
    "                A[i,j] = 0.5/numpy.pi*integral(p_i.xc, p_i.yc, \n",
    "                                              p_j, \n",
    "                                              -numpy.sin(p_i.beta), numpy.cos(p_i.beta))\n",
    "                # contribution the vortices\n",
    "                A[i,N] -= 0.5/numpy.pi*integral(p_i.xc, p_i.yc, \n",
    "                                               p_j, \n",
    "                                               numpy.cos(p_i.beta), numpy.sin(p_i.beta))\n",
    "\n",
    "    b = freestream.u_inf * numpy.sin([freestream.alpha - panel.beta for panel in panels])\n",
    "    \n",
    "    var = numpy.append([panel.sigma for panel in panels], gamma)\n",
    "    \n",
    "    vt = numpy.dot(A, var) + b\n",
    "    for i, panel in enumerate(panels):\n",
    "        panel.vt = vt[i]"
   ]
  },
  {
   "cell_type": "code",
   "execution_count": 74,
   "metadata": {
    "collapsed": true
   },
   "outputs": [],
   "source": [
    "get_tangential_velocity(panels, freestream, gamma)"
   ]
  },
  {
   "cell_type": "code",
   "execution_count": 75,
   "metadata": {
    "collapsed": false
   },
   "outputs": [
    {
     "name": "stdout",
     "output_type": "stream",
     "text": [
      "-0.837270684297 0.837270684297\n"
     ]
    }
   ],
   "source": [
    "print panels[0].vt, panels[-1].vt"
   ]
  },
  {
   "cell_type": "code",
   "execution_count": 76,
   "metadata": {
    "collapsed": false
   },
   "outputs": [
    {
     "data": {
      "text/plain": [
       "0.7916319353239148"
      ]
     },
     "execution_count": 76,
     "metadata": {},
     "output_type": "execute_result"
    }
   ],
   "source": [
    "0.94549104629*0.837270684297"
   ]
  },
  {
   "cell_type": "code",
   "execution_count": 77,
   "metadata": {
    "collapsed": false
   },
   "outputs": [
    {
     "name": "stdout",
     "output_type": "stream",
     "text": [
      "0.791631935325\n"
     ]
    }
   ],
   "source": [
    "print 0.5*(panels[0].vt*(-numpy.sin(panels[0].beta)) + panels[-1].vt*(-numpy.sin(panels[-1].beta)))"
   ]
  },
  {
   "cell_type": "markdown",
   "metadata": {},
   "source": [
    "#### Calculate Pressure Coefficient "
   ]
  },
  {
   "cell_type": "code",
   "execution_count": 78,
   "metadata": {
    "collapsed": true
   },
   "outputs": [],
   "source": [
    "def get_pressure_coefficient(panels, freestream):\n",
    "    for panel in panels:\n",
    "        panel.cp = 1.0 - (panel.vt/freestream.u_inf)**2"
   ]
  },
  {
   "cell_type": "code",
   "execution_count": 79,
   "metadata": {
    "collapsed": true
   },
   "outputs": [],
   "source": [
    "get_pressure_coefficient(panels, freestream)"
   ]
  },
  {
   "cell_type": "code",
   "execution_count": 80,
   "metadata": {
    "collapsed": false
   },
   "outputs": [
    {
     "data": {
      "image/png": "[encoded data removed]",
      "text/plain": [
       "<matplotlib.figure.Figure at 0x10f63d0d0>"
      ]
     },
     "metadata": {},
     "output_type": "display_data"
    }
   ],
   "source": [
    "pyplot.figure(figsize=(10, 6))\n",
    "pyplot.grid(True)\n",
    "pyplot.xlabel('x', fontsize=16)\n",
    "pyplot.ylabel('$C_p$', fontsize=16)\n",
    "pyplot.plot([panel.xc for panel in panels if panel.loc == 'extrados'], \n",
    "         [panel.cp for panel in panels if panel.loc == 'extrados'], \n",
    "         color='r', linestyle='-', linewidth=2, marker='o', markersize=6)\n",
    "pyplot.plot([panel.xc for panel in panels if panel.loc == 'intrados'], \n",
    "         [panel.cp for panel in panels if panel.loc == 'intrados'], \n",
    "         color='b', linestyle='-', linewidth=1, marker='o', markersize=6)\n",
    "pyplot.legend(['extrados', 'intrados'], loc='best', prop={'size':14})\n",
    "pyplot.xlim(x_left, x_right)\n",
    "pyplot.gca().invert_yaxis()\n",
    "pyplot.title('Number of panels : %d' % N);"
   ]
  },
  {
   "cell_type": "markdown",
   "metadata": {},
   "source": [
    "#### Calculate the Streamline on a cartesian grid"
   ]
  },
  {
   "cell_type": "code",
   "execution_count": 81,
   "metadata": {
    "collapsed": false
   },
   "outputs": [
    {
     "name": "stdout",
     "output_type": "stream",
     "text": [
      "0.124181629633\n"
     ]
    }
   ],
   "source": [
    "print gamma"
   ]
  },
  {
   "cell_type": "code",
   "execution_count": 82,
   "metadata": {
    "collapsed": true
   },
   "outputs": [],
   "source": [
    "scale = 2.0\n",
    "x_left, x_right = x_air_min-scale*(x_air_max-x_air_min), x_air_max+scale*(x_air_max-x_air_min)\n",
    "y_down, y_up = y_air_min-scale*(y_air_max-y_air_min), y_air_max+scale*(y_air_max-y_air_min)"
   ]
  },
  {
   "cell_type": "code",
   "execution_count": 83,
   "metadata": {
    "collapsed": true
   },
   "outputs": [],
   "source": [
    "Nx, Ny = 40, 40\n",
    "X, Y = numpy.meshgrid(numpy.linspace(x_left, x_right, Nx), numpy.linspace(y_down, y_up, Ny))"
   ]
  },
  {
   "cell_type": "code",
   "execution_count": 84,
   "metadata": {
    "collapsed": false
   },
   "outputs": [],
   "source": [
    "def get_velocity_field(panels, freestream, gamma, X,Y):\n",
    "    Nx, Ny = X.shape\n",
    "    u, v = numpy.empty((Nx, Ny), dtype=float), numpy.empty((Nx, Ny), dtype=float)\n",
    "    \n",
    "    for i in xrange(Nx):\n",
    "        for j in xrange(Ny):\n",
    "            u[i,j] = freestream.u_inf*numpy.cos(freestream.alpha)\\\n",
    "                     + 0.5/numpy.pi*sum([p.sigma*integral(X[i,j], Y[i,j], p, 1, 0) for p in panels])\\\n",
    "                     - 0.5/numpy.pi*sum([gamma*integral(X[i,j], Y[i,j], p, 0, -1) for p in panels])\n",
    "            v[i,j] = freestream.u_inf*numpy.sin(freestream.alpha)\\\n",
    "                     + 0.5/numpy.pi*sum([p.sigma*integral(X[i,j], Y[i,j], p, 0, 1) for p in panels])\\\n",
    "                     - 0.5/numpy.pi*sum([gamma*integral(X[i,j], Y[i,j], p, 1, 0) for p in panels])\n",
    "    return u, v"
   ]
  },
  {
   "cell_type": "code",
   "execution_count": 85,
   "metadata": {
    "collapsed": false
   },
   "outputs": [],
   "source": [
    "u, v = get_velocity_field(panels, freestream, gamma, X, Y)"
   ]
  },
  {
   "cell_type": "code",
   "execution_count": 86,
   "metadata": {
    "collapsed": false
   },
   "outputs": [
    {
     "data": {
      "image/png": "[encoded data removed]",
      "text/plain": [
       "<matplotlib.figure.Figure at 0x10e144790>"
      ]
     },
     "metadata": {},
     "output_type": "display_data"
    }
   ],
   "source": [
    "# plots the velocity field\n",
    "size=10\n",
    "pyplot.figure(figsize=(size, size*(y_up-y_down)/(x_right-x_left)))\n",
    "pyplot.xlabel('x', fontsize=16)\n",
    "pyplot.ylabel('y', fontsize=16)\n",
    "pyplot.streamplot(X, Y, u, v, density=1, linewidth=1, arrowsize=1, arrowstyle='->')\n",
    "pyplot.fill([panel.xc for panel in panels], \n",
    "         [panel.yc for panel in panels], \n",
    "        color='k', linestyle='solid', linewidth=2, zorder=2)\n",
    "#pyplot.plot([panel.xa for panel in panels],[panel.ya for panel in panels],'k-')\n",
    "pyplot.xlim(x_left, x_right)\n",
    "pyplot.ylim(y_down, y_up)\n",
    "pyplot.title('Streamlines around a NACA 0012 airfoil, AoA = %.1f' % alpha);"
   ]
  },
  {
   "cell_type": "code",
   "execution_count": 87,
   "metadata": {
    "collapsed": false
   },
   "outputs": [],
   "source": [
    "cp = 1.0 - (u**2+v**2)/freestream.u_inf**2"
   ]
  },
  {
   "cell_type": "code",
   "execution_count": 90,
   "metadata": {
    "collapsed": false
   },
   "outputs": [
    {
     "data": {
      "image/png": "[encoded data removed]",
      "text/plain": [
       "<matplotlib.figure.Figure at 0x10f9b65d0>"
      ]
     },
     "metadata": {},
     "output_type": "display_data"
    }
   ],
   "source": [
    "# plots the pressure field\n",
    "size=20\n",
    "pyplot.figure(figsize=(size, size*(y_up-y_down)/(x_right-x_left)))\n",
    "pyplot.xlabel('x', fontsize=16)\n",
    "pyplot.ylabel('y', fontsize=16)\n",
    "contf = pyplot.contourf(X, Y, cp, levels=numpy.linspace(-1.0, 1.0, 100), extend='both')\n",
    "cbar = pyplot.colorbar(contf)\n",
    "cbar.set_label('$C_p$', fontsize=16)\n",
    "cbar.set_ticks([ -1.0,0.0, 1.0])\n",
    "pyplot.fill([panel.xc for panel in panels], \n",
    "         [panel.yc for panel in panels], \n",
    "         color='k', linestyle='solid', linewidth=2, zorder=2)\n",
    "#pyplot.xlim(x_start, x_end)\n",
    "#pyplot.ylim(y_start, y_end)\n",
    "pyplot.axis('equal')\n",
    "pyplot.title('Contour of pressure field');"
   ]
  },
  {
   "cell_type": "markdown",
   "metadata": {},
   "source": [
    "## "
   ]
  }
 ],
 "metadata": {
  "kernelspec": {
   "display_name": "Python 2",
   "language": "python",
   "name": "python2"
  },
  "language_info": {
   "codemirror_mode": {
    "name": "ipython",
    "version": 2
   },
   "file_extension": ".py",
   "mimetype": "text/x-python",
   "name": "python",
   "nbconvert_exporter": "python",
   "pygments_lexer": "ipython2",
   "version": "2.7.9"
  }
 },
 "nbformat": 4,
 "nbformat_minor": 0
}
