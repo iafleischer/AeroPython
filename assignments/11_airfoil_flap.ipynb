{
 "cells": [
  {
   "cell_type": "code",
   "execution_count": 1,
   "metadata": {
    "code_folding": [
     0
    ],
    "collapsed": false
   },
   "outputs": [],
   "source": [
    "import numpy\n",
    "from airfoil_helper import *\n",
    "from matplotlib import pyplot\n",
    "%matplotlib inline"
   ]
  },
  {
   "cell_type": "markdown",
   "metadata": {},
   "source": [
    "#### load the airfoil data"
   ]
  },
  {
   "cell_type": "code",
   "execution_count": 2,
   "metadata": {
    "collapsed": false
   },
   "outputs": [],
   "source": [
    "N = 200\n",
    "main_csv = 'resources/MainFoil_N=' + str(N) + '.csv'\n",
    "flap_csv = 'resources/FlapFoil_N=' + str(N) + '.csv'"
   ]
  },
  {
   "cell_type": "code",
   "execution_count": 3,
   "metadata": {
    "collapsed": true
   },
   "outputs": [],
   "source": [
    "x_m_ends, y_m_ends = numpy.loadtxt(main_csv, delimiter=',', unpack=True)\n",
    "x_f_ends, y_f_ends = numpy.loadtxt(flap_csv, delimiter=',', unpack=True)"
   ]
  },
  {
   "cell_type": "markdown",
   "metadata": {},
   "source": [
    "#### Generate the panels"
   ]
  },
  {
   "cell_type": "code",
   "execution_count": 4,
   "metadata": {
    "collapsed": true
   },
   "outputs": [],
   "source": [
    "def gen_panels(x_ends, y_ends):\n",
    "    N = len(x_ends) - 1  \n",
    "    panels = numpy.empty(N, dtype=object)\n",
    "    for i in xrange(N):\n",
    "        panels[i] = Panel(x_ends[i], y_ends[i], x_ends[i+1], y_ends[i+1])\n",
    "    return panels"
   ]
  },
  {
   "cell_type": "code",
   "execution_count": 5,
   "metadata": {
    "collapsed": false
   },
   "outputs": [],
   "source": [
    "mains, flaps = gen_panels(x_m_ends, y_m_ends), gen_panels(x_f_ends, y_f_ends)\n",
    "panels = numpy.concatenate((mains, flaps))"
   ]
  },
  {
   "cell_type": "code",
   "execution_count": 6,
   "metadata": {
    "code_folding": [
     0
    ],
    "collapsed": false
   },
   "outputs": [],
   "source": [
    "def plot_panels(panels, figname):\n",
    "    \"\"\"Plot the panels.\"\"\"\n",
    "    pyplot.grid(True)\n",
    "    pyplot.axis('equal')\n",
    "    pyplot.xlabel(r'$x$')\n",
    "    pyplot.ylabel(r'$y$')\n",
    "    pyplot.title(figname)\n",
    "    pyplot.xlim(0., 1.4)\n",
    "    pyplot.plot([panel.xa for panel in mains], [panel.ya for panel in mains], 'g-')\n",
    "    pyplot.plot([panel.xa for panel in flaps], [panel.ya for panel in flaps], 'g-')\n",
    "    pyplot.plot([panel.xa for panel in panels], [panel.ya for panel in panels], 'go', markersize=5.0, alpha=0.5)\n",
    "    pyplot.plot([panel.xc for panel in panels], [panel.yc for panel in panels], 'rx', markersize=4.0);"
   ]
  },
  {
   "cell_type": "code",
   "execution_count": 7,
   "metadata": {
    "collapsed": false
   },
   "outputs": [
    {
     "data": {
      "image/png": "[encoded data removed]",
      "text/plain": [
       "<matplotlib.figure.Figure at 0x106556550>"
      ]
     },
     "metadata": {},
     "output_type": "display_data"
    }
   ],
   "source": [
    "plot_panels(panels, 'airfoil')"
   ]
  },
  {
   "cell_type": "markdown",
   "metadata": {
    "code_folding": [
     0
    ]
   },
   "source": [
    "#### Freestream condition"
   ]
  },
  {
   "cell_type": "code",
   "execution_count": 8,
   "metadata": {
    "code_folding": [],
    "collapsed": true
   },
   "outputs": [],
   "source": [
    "# add freestream velocity and AOA \n",
    "u_inf, alpha = 1.0, 0.0\n",
    "freestream = Freestream(u_inf, alpha)"
   ]
  },
  {
   "cell_type": "markdown",
   "metadata": {},
   "source": [
    "#### Build the coefficient matrix"
   ]
  },
  {
   "cell_type": "code",
   "execution_count": 9,
   "metadata": {
    "code_folding": [],
    "collapsed": false
   },
   "outputs": [],
   "source": [
    "def source_matrix(panels):\n",
    "    \"\"\"build the N*N source coefficient matrix\"\"\"\n",
    "    a = numpy.zeros((panels.size, panels.size), dtype=float)\n",
    "    numpy.fill_diagonal(a, 0.5)\n",
    "    for i, p_i in enumerate(panels):\n",
    "        for j, p_j in enumerate(panels):\n",
    "            if i!=j:\n",
    "                a[i, j] = 0.5/numpy.pi*integral(p_i, p_j, p_i.nx, p_i.ny)\n",
    "    return a"
   ]
  },
  {
   "cell_type": "code",
   "execution_count": 10,
   "metadata": {
    "code_folding": [],
    "collapsed": true
   },
   "outputs": [],
   "source": [
    "def vortex_array(panels):\n",
    "    \"\"\"return N*2 vortex coefficient array\"\"\"\n",
    "    N = panels.size\n",
    "    mains = panels[:N/2]\n",
    "    flaps = panels[N/2:]\n",
    "    a = numpy.zeros((N, 2), dtype=float)\n",
    "    # loop in evaluation panel i\n",
    "    for i, p_i in enumerate(panels):\n",
    "        # loop in main airfoil panel j\n",
    "        for j, p_j in enumerate(mains):\n",
    "            if i != j:    # jump if i,j are the same panel\n",
    "                a[i, 0] -= 0.5/numpy.pi*integral(p_i, p_j, p_i.ny, - p_i.nx)\n",
    "        # loop in flap airfoil panel j\n",
    "        for j, p_j in enumerate(flaps):\n",
    "            if i != (j+N/2):    # jump if i,j are the same panel\n",
    "                a[i, 1] -= 0.5/numpy.pi*integral(p_i, p_j, p_i.ny, - p_i.nx)\n",
    "    return a"
   ]
  },
  {
   "cell_type": "code",
   "execution_count": 11,
   "metadata": {
    "code_folding": [],
    "collapsed": false
   },
   "outputs": [],
   "source": [
    "def kutta_array(panels, a, b):\n",
    "    \"\"\"return N+2 x 1 array for main airfoil\"\"\"\n",
    "    p_a, p_b = panels[a], panels[b]\n",
    "    N = panels.size\n",
    "    mains = panels[:N/2]\n",
    "    flaps = panels[N/2:]\n",
    "    A = numpy.zeros(N+2, dtype=float)\n",
    "    \n",
    "    # calculate the coefficient of source strength\n",
    "    for j, p_j in enumerate(panels):\n",
    "        if j != a:\n",
    "            A[j] += 0.5/numpy.pi * integral(p_a, p_j, p_a.tx, p_a.ty)\n",
    "        if j != b:\n",
    "            A[j] += 0.5/numpy.pi * integral(p_b, p_j, p_b.tx, p_b.ty)\n",
    "    \n",
    "    # calculate the coefficient of vortex strength\n",
    "    # if a,b on main airfoil\n",
    "    if b <= N/2-1:\n",
    "        # main airfoil\n",
    "        for j, p_j in enumerate(mains):\n",
    "            if j != a:\n",
    "                A[-2] -= 0.5/numpy.pi * integral(p_a, p_j, p_a.ty, -p_a.tx)\n",
    "            else:\n",
    "                A[-2] -= 0.5\n",
    "            if j != b:\n",
    "                A[-2] -= 0.5/numpy.pi * integral(p_b, p_j, p_b.ty, -p_b.tx)\n",
    "            else:\n",
    "                A[-2] -= 0.5\n",
    "        # flap airfoil\n",
    "        for j, p_j in enumerate(flaps):\n",
    "            A[-1] -= 0.5/numpy.pi * integral(p_a, p_j, p_a.ty, -p_a.tx)\n",
    "            A[-1] -= 0.5/numpy.pi * integral(p_b, p_j, p_b.ty, -p_b.tx)\n",
    "    \n",
    "    # if a,b on flap airfoil\n",
    "    elif a >= N/2:\n",
    "        # main airfoil\n",
    "        for j, p_j in enumerate(mains):\n",
    "            A[-2] -= 0.5/numpy.pi * integral(p_a, p_j, p_a.ty, -p_a.tx)\n",
    "            A[-2] -= 0.5/numpy.pi * integral(p_b, p_j, p_b.ty, -p_b.tx)\n",
    "        # flap airfoil\n",
    "        for j, p_j in enumerate(flaps):\n",
    "            if (j+N/2) != a:\n",
    "                A[-1] -= 0.5/numpy.pi * integral(p_a, p_j, p_a.ty, -p_a.tx)\n",
    "            else:\n",
    "                A[-1] -= 0.5\n",
    "            if (j+N/2) !=b :\n",
    "                A[-1] -= 0.5/numpy.pi * integral(p_b, p_j, p_b.ty, -p_b.tx)\n",
    "            else:\n",
    "                A[-1] -= 0.5\n",
    "    return A"
   ]
  },
  {
   "cell_type": "code",
   "execution_count": 12,
   "metadata": {
    "code_folding": [],
    "collapsed": true
   },
   "outputs": [],
   "source": [
    "def build_matrix(panels):\n",
    "    N = panels.size\n",
    "    A = numpy.empty((N+2, N+2), dtype=float)\n",
    "    AS = source_matrix(panels)\n",
    "    av = vortex_array(panels)\n",
    "    k1 = kutta_array(panels, 0, N/2-1)\n",
    "    k2 = kutta_array(panels, N/2, N-1)\n",
    "    \n",
    "    A[:N, :N] = AS[:,:]\n",
    "    A[:N, N:] = av[:,:]\n",
    "    A[-2, :] = k1[:]\n",
    "    A[-1, :] = k2[:]\n",
    "    \n",
    "    return A"
   ]
  },
  {
   "cell_type": "code",
   "execution_count": 13,
   "metadata": {
    "code_folding": [
     0
    ],
    "collapsed": true
   },
   "outputs": [],
   "source": [
    "A = build_matrix(panels)"
   ]
  },
  {
   "cell_type": "markdown",
   "metadata": {},
   "source": [
    "#### Build the RHS"
   ]
  },
  {
   "cell_type": "code",
   "execution_count": 14,
   "metadata": {
    "collapsed": false
   },
   "outputs": [],
   "source": [
    "def build_rhs(panels, freestream):\n",
    "    N = panels.size\n",
    "    b = numpy.zeros(N+2, dtype=float)\n",
    "    for i, p_i in enumerate(panels):\n",
    "        b[i] = - freestream.u_inf * numpy.cos(freestream.alpha - p_i.beta)\n",
    "    # kutta condition main airfoil    \n",
    "    b[-2] = -freestream.u_inf * (numpy.sin(freestream.alpha-panels[0].beta)\n",
    "                               + numpy.sin(freestream.alpha-panels[N/2-1].beta))\n",
    "    # kutta condition flap airfoil\n",
    "    b[-1] = -freestream.u_inf * (numpy.sin(freestream.alpha-panels[N/2].beta)\n",
    "                               + numpy.sin(freestream.alpha-panels[N-1].beta))\n",
    "    return b"
   ]
  },
  {
   "cell_type": "code",
   "execution_count": 15,
   "metadata": {
    "collapsed": true
   },
   "outputs": [],
   "source": [
    "b = build_rhs(panels, freestream)"
   ]
  },
  {
   "cell_type": "markdown",
   "metadata": {},
   "source": [
    "#### Solve the linear system"
   ]
  },
  {
   "cell_type": "code",
   "execution_count": 16,
   "metadata": {
    "collapsed": true
   },
   "outputs": [],
   "source": [
    "# solves the linear system\n",
    "solution = numpy.linalg.solve(A, b)\n",
    "\n",
    "for i, panel in enumerate(panels):\n",
    "    panel.sigma = solution[i]\n",
    "gamma_m, gamma_f = solution[-2], solution[-1]"
   ]
  },
  {
   "cell_type": "markdown",
   "metadata": {
    "code_folding": []
   },
   "source": [
    "#### Check the accurary via source strength"
   ]
  },
  {
   "cell_type": "code",
   "execution_count": 17,
   "metadata": {
    "collapsed": false
   },
   "outputs": [
    {
     "name": "stdout",
     "output_type": "stream",
     "text": [
      "--> sum of source/sink strengths: -0.000826784259806\n"
     ]
    }
   ],
   "source": [
    "# calculates the accuracy\n",
    "accuracy = sum([panel.sigma*panel.length for panel in panels])\n",
    "print '--> sum of source/sink strengths:', accuracy"
   ]
  },
  {
   "cell_type": "markdown",
   "metadata": {},
   "source": [
    "#### Calculate Surface tangential velocity"
   ]
  },
  {
   "cell_type": "code",
   "execution_count": 18,
   "metadata": {
    "code_folding": [],
    "collapsed": true
   },
   "outputs": [],
   "source": [
    "def tan_vel(panels, freestream, solution):\n",
    "    \"\"\"Calculate the tangential velocity for each panel\"\"\"\n",
    "    N = len(panels)\n",
    "    mains = panels[:N/2]\n",
    "    flaps = panels[N/2:]\n",
    "    A = numpy.zeros((N, N+2), dtype=float)\n",
    "    b = numpy.zeros(N, dtype=float)\n",
    "    for i, p_i in enumerate(panels):\n",
    "        # freestream\n",
    "        b[i] = freestream.u_inf * numpy.sin(freestream.alpha-p_i.beta)\n",
    "        # source\n",
    "        for j, p_j in enumerate(panels):\n",
    "            if i != j:\n",
    "                A[i, j] = 0.5/numpy.pi *integral(p_i, p_j, p_i.tx, p_i.ty)\n",
    "        # vortex\n",
    "        # i on main\n",
    "        if i < N/2:\n",
    "            # main wing contribution\n",
    "            for j, p_j in enumerate(mains):\n",
    "                if i != j:\n",
    "                    A[i, -2] -= 0.5/numpy.pi * integral(p_i, p_j, p_i.ty, -p_i.tx)\n",
    "                else:\n",
    "                    A[i, -2] -= 0.5\n",
    "            # flap wing contribution\n",
    "            for j, p_j in enumerate(flaps):\n",
    "                A[i, -1] -= 0.5/numpy.pi * integral(p_i, p_j, p_i.ty, -p_i.tx)\n",
    "        # i on flap\n",
    "        else:\n",
    "            # main wing contribution\n",
    "            for j, p_j in enumerate(mains):\n",
    "                A[i,-2] -= 0.5/numpy.pi * integral(p_i, p_j, p_i.ty, -p_i.tx)\n",
    "            # flap contribution\n",
    "            for j, p_j in enumerate(flaps):\n",
    "                if i != (j+N/2):\n",
    "                    A[i,-1] -= 0.5/numpy.pi * integral(p_i, p_j, p_i.ty, -p_i.tx)\n",
    "                else:\n",
    "                    A[i,-1] -= 0.5\n",
    "    \n",
    "    vt = numpy.dot(A, solution) + b\n",
    "    for i, panel in enumerate(panels):\n",
    "        panel.vt = vt[i]"
   ]
  },
  {
   "cell_type": "code",
   "execution_count": 19,
   "metadata": {
    "collapsed": false
   },
   "outputs": [],
   "source": [
    "tan_vel(panels, freestream, solution)"
   ]
  },
  {
   "cell_type": "code",
   "execution_count": 20,
   "metadata": {
    "collapsed": true
   },
   "outputs": [],
   "source": [
    "def eval_cp(panels, freestream):\n",
    "    for panel in panels:\n",
    "        panel.cp = 1 - (panel.vt/freestream.u_inf)**2"
   ]
  },
  {
   "cell_type": "code",
   "execution_count": 21,
   "metadata": {
    "collapsed": true
   },
   "outputs": [],
   "source": [
    "eval_cp(panels,freestream)"
   ]
  },
  {
   "cell_type": "code",
   "execution_count": 22,
   "metadata": {
    "collapsed": false
   },
   "outputs": [],
   "source": [
    "x_main, cp_main = numpy.loadtxt('resources/Cp_Main_theoretical.csv', delimiter=',', unpack=True)\n",
    "x_flap, cp_flap = numpy.loadtxt('resources/Cp_Flap_theoretical.csv', delimiter=',', unpack=True)"
   ]
  },
  {
   "cell_type": "code",
   "execution_count": 23,
   "metadata": {
    "code_folding": [],
    "collapsed": false
   },
   "outputs": [
    {
     "data": {
      "image/png": "[encoded data removed]",
      "text/plain": [
       "<matplotlib.figure.Figure at 0x1087c0ad0>"
      ]
     },
     "metadata": {},
     "output_type": "display_data"
    }
   ],
   "source": [
    "# plots the surface pressure coefficient\n",
    "N = len(panels)\n",
    "mains = panels[:N/2]\n",
    "flaps = panels[N/2:]\n",
    "\n",
    "pyplot.figure(figsize=(10, 6))\n",
    "pyplot.grid(True)\n",
    "pyplot.xlabel('x', fontsize=16)\n",
    "pyplot.ylabel('$C_p$', fontsize=16)\n",
    "pyplot.plot([panel.xc for panel in mains if panel.loc == 'extrados'], \n",
    "         [panel.cp for panel in mains if panel.loc == 'extrados'], \n",
    "         color='r', linestyle='-', linewidth=2, marker='o', markersize=6)\n",
    "pyplot.plot([panel.xc for panel in flaps if panel.loc == 'extrados'], \n",
    "         [panel.cp for panel in flaps if panel.loc == 'extrados'], \n",
    "         color='r', linestyle='-', linewidth=2, marker='o', markersize=6)\n",
    "pyplot.plot([panel.xc for panel in mains if panel.loc == 'intrados'], \n",
    "         [panel.cp for panel in mains if panel.loc == 'intrados'], \n",
    "         color='b', linestyle='-', linewidth=1, marker='o', markersize=6)\n",
    "pyplot.plot([panel.xc for panel in flaps if panel.loc == 'intrados'], \n",
    "         [panel.cp for panel in flaps if panel.loc == 'intrados'], \n",
    "         color='b', linestyle='-', linewidth=1, marker='o', markersize=6)\n",
    "pyplot.plot(x_main, cp_main, 'kx', x_flap, cp_flap, 'kx')\n",
    "pyplot.xlim(-0.2, 1.4)\n",
    "pyplot.ylim(-15, 5)\n",
    "pyplot.gca().invert_yaxis()\n",
    "pyplot.title('Number of panels on each airfoil : %d' % N);"
   ]
  },
  {
   "cell_type": "markdown",
   "metadata": {},
   "source": [
    "#### Eval Lift and drag"
   ]
  },
  {
   "cell_type": "code",
   "execution_count": 24,
   "metadata": {
    "collapsed": true
   },
   "outputs": [],
   "source": [
    "def eval_ld(panels):\n",
    "    L = 0.\n",
    "    D = 0.\n",
    "    for panel in panels:\n",
    "        L -= panel.cp*panel.length*panel.ny\n",
    "        D += panel.cp*panel.length*panel.nx\n",
    "    return L, D"
   ]
  },
  {
   "cell_type": "code",
   "execution_count": 25,
   "metadata": {
    "collapsed": false
   },
   "outputs": [
    {
     "name": "stdout",
     "output_type": "stream",
     "text": [
      "Lift     Drag\n",
      "3.71843390868 0.0055835520559\n"
     ]
    }
   ],
   "source": [
    "Lift, Drag = eval_ld(panels)\n",
    "print \"Lift     Drag\"\n",
    "print Lift, Drag"
   ]
  },
  {
   "cell_type": "markdown",
   "metadata": {
    "code_folding": []
   },
   "source": [
    "#### Questions in edx:"
   ]
  },
  {
   "cell_type": "markdown",
   "metadata": {},
   "source": [
    "##### pressure coefficient on the 3rd panel on the main airfoil? "
   ]
  },
  {
   "cell_type": "code",
   "execution_count": 26,
   "metadata": {
    "collapsed": false
   },
   "outputs": [
    {
     "name": "stdout",
     "output_type": "stream",
     "text": [
      "-0.553530359708\n"
     ]
    }
   ],
   "source": [
    "print panels[2].cp"
   ]
  },
  {
   "cell_type": "markdown",
   "metadata": {},
   "source": [
    "##### pressure coefficient on the 10th panel on the flap airfoil? "
   ]
  },
  {
   "cell_type": "code",
   "execution_count": 27,
   "metadata": {
    "collapsed": false
   },
   "outputs": [
    {
     "name": "stdout",
     "output_type": "stream",
     "text": [
      "0.262580530047\n"
     ]
    }
   ],
   "source": [
    "N = len(panels)\n",
    "print panels[N/2+9].cp"
   ]
  },
  {
   "cell_type": "markdown",
   "metadata": {},
   "source": [
    "####absolute error"
   ]
  },
  {
   "cell_type": "code",
   "execution_count": 28,
   "metadata": {
    "collapsed": false
   },
   "outputs": [
    {
     "name": "stdout",
     "output_type": "stream",
     "text": [
      "0.0201660913188\n"
     ]
    }
   ],
   "source": [
    "abs_err = numpy.abs(3.7386-Lift)\n",
    "print abs_err"
   ]
  },
  {
   "cell_type": "code",
   "execution_count": 31,
   "metadata": {
    "collapsed": false
   },
   "outputs": [
    {
     "name": "stdout",
     "output_type": "stream",
     "text": [
      "0.506766949023\n"
     ]
    }
   ],
   "source": [
    "print (abs100-abs_err)/abs100"
   ]
  },
  {
   "cell_type": "code",
   "execution_count": 30,
   "metadata": {
    "code_folding": [],
    "collapsed": true
   },
   "outputs": [],
   "source": [
    "abs100 = 0.0408855231392"
   ]
  },
  {
   "cell_type": "code",
   "execution_count": 29,
   "metadata": {
    "code_folding": [],
    "collapsed": false
   },
   "outputs": [
    {
     "data": {
      "application/javascript": [
       "IPython.load_extensions('IPython-notebook-extensions-3.x/usability/codefolding/main');"
      ],
      "text/plain": [
       "<IPython.core.display.Javascript object>"
      ]
     },
     "metadata": {},
     "output_type": "display_data"
    }
   ],
   "source": [
    "%%javascript\n",
    "IPython.load_extensions('IPython-notebook-extensions-3.x/usability/codefolding/main');"
   ]
  }
 ],
 "metadata": {
  "kernelspec": {
   "display_name": "Python 2",
   "language": "python",
   "name": "python2"
  },
  "language_info": {
   "codemirror_mode": {
    "name": "ipython",
    "version": 2
   },
   "file_extension": ".py",
   "mimetype": "text/x-python",
   "name": "python",
   "nbconvert_exporter": "python",
   "pygments_lexer": "ipython2",
   "version": "2.7.9"
  }
 },
 "nbformat": 4,
 "nbformat_minor": 0
}
