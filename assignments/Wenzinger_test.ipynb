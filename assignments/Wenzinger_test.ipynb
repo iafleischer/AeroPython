{
 "cells": [
  {
   "cell_type": "code",
   "execution_count": 444,
   "metadata": {
    "code_folding": [
     0
    ],
    "collapsed": true
   },
   "outputs": [],
   "source": [
    "import numpy\n",
    "from airfoil_helper import *\n",
    "from matplotlib import pyplot\n",
    "%matplotlib inline"
   ]
  },
  {
   "cell_type": "code",
   "execution_count": 445,
   "metadata": {
    "collapsed": true
   },
   "outputs": [],
   "source": [
    "# add freestream velocity and AOA \n",
    "u_inf, alpha = 1.0, 4.0\n",
    "freestream = Freestream(u_inf, alpha)"
   ]
  },
  {
   "cell_type": "code",
   "execution_count": 446,
   "metadata": {
    "collapsed": false
   },
   "outputs": [],
   "source": [
    "x_m_ends, y_m_ends = numpy.loadtxt('resources/NACA23012_MainFoil.csv', delimiter=',', unpack=True)\n",
    "x_f_ends, y_f_ends = numpy.loadtxt('resources/NACA23012_FlapFoil.csv', delimiter=',', unpack=True)"
   ]
  },
  {
   "cell_type": "code",
   "execution_count": 447,
   "metadata": {
    "collapsed": true
   },
   "outputs": [],
   "source": [
    "x_h ,y_h = 1.03, -0.054"
   ]
  },
  {
   "cell_type": "code",
   "execution_count": 448,
   "metadata": {
    "collapsed": false
   },
   "outputs": [
    {
     "data": {
      "image/png": "[encoded data removed]",
      "text/plain": [
       "<matplotlib.figure.Figure at 0x10738db50>"
      ]
     },
     "metadata": {},
     "output_type": "display_data"
    }
   ],
   "source": [
    "pyplot.plot(x_m_ends, y_m_ends, 'r-', x_f_ends,y_f_ends, 'g-')\n",
    "pyplot.axis('equal')\n",
    "pyplot.scatter(x_h,y_h, s=5);"
   ]
  },
  {
   "cell_type": "code",
   "execution_count": 449,
   "metadata": {
    "code_folding": [],
    "collapsed": true
   },
   "outputs": [],
   "source": [
    "def rotate(x,y,x_c,y_c, angle):\n",
    "    r = numpy.sqrt((x-x_c)**2 + (y-y_c)**2)\n",
    "    theta = numpy.arccos((x-x_c)/r)\n",
    "    theta_new = theta - float(angle)/180.*numpy.pi\n",
    "    x_new = x_c + r*numpy.cos(theta_new)\n",
    "    y_new = y_c + r*numpy.sin(theta_new)\n",
    "    return x_new, y_new"
   ]
  },
  {
   "cell_type": "code",
   "execution_count": 450,
   "metadata": {
    "code_folding": [],
    "collapsed": true
   },
   "outputs": [],
   "source": [
    "x_f_new, y_f_new = rotate(x_f_ends, y_f_ends, x_h,y_h,15)"
   ]
  },
  {
   "cell_type": "code",
   "execution_count": 451,
   "metadata": {
    "collapsed": false
   },
   "outputs": [
    {
     "data": {
      "image/png": "[encoded data removed]",
      "text/plain": [
       "<matplotlib.figure.Figure at 0x107153e50>"
      ]
     },
     "metadata": {},
     "output_type": "display_data"
    }
   ],
   "source": [
    "pyplot.plot(x_m_ends, y_m_ends, 'r-', x_f_new,y_f_new, 'g-')\n",
    "pyplot.axis('equal')\n",
    "pyplot.scatter(x_h,y_h, s=5);"
   ]
  },
  {
   "cell_type": "code",
   "execution_count": 452,
   "metadata": {
    "code_folding": [
     0
    ],
    "collapsed": true
   },
   "outputs": [],
   "source": [
    "def gen_panels(x_ends, y_ends):\n",
    "    N = len(x_ends) - 1  \n",
    "    panels = numpy.empty(N, dtype=object)\n",
    "    for i in xrange(N):\n",
    "        panels[i] = Panel(x_ends[i], y_ends[i], x_ends[i+1], y_ends[i+1])\n",
    "    return panels"
   ]
  },
  {
   "cell_type": "code",
   "execution_count": 453,
   "metadata": {
    "code_folding": [],
    "collapsed": true
   },
   "outputs": [],
   "source": [
    "mains, flaps = gen_panels(x_m_ends, y_m_ends), gen_panels(x_f_new, y_f_new)\n",
    "panels = numpy.concatenate((mains, flaps))"
   ]
  },
  {
   "cell_type": "code",
   "execution_count": 454,
   "metadata": {
    "code_folding": [],
    "collapsed": true
   },
   "outputs": [],
   "source": [
    "def source_matrix(panels):\n",
    "    \"\"\"build the N*N source coefficient matrix\"\"\"\n",
    "    a = numpy.zeros((panels.size, panels.size), dtype=float)\n",
    "    numpy.fill_diagonal(a, 0.5)\n",
    "    for i, p_i in enumerate(panels):\n",
    "        for j, p_j in enumerate(panels):\n",
    "            if i!=j:\n",
    "                a[i, j] = 0.5/numpy.pi*integral(p_i, p_j, p_i.nx, p_i.ny)\n",
    "    return a"
   ]
  },
  {
   "cell_type": "code",
   "execution_count": 455,
   "metadata": {
    "code_folding": [],
    "collapsed": true
   },
   "outputs": [],
   "source": [
    "def vortex_array(panels):\n",
    "    \"\"\"return N*2 vortex coefficient array\"\"\"\n",
    "    N = panels.size\n",
    "    mains = panels[:N/2]\n",
    "    flaps = panels[N/2:]\n",
    "    a = numpy.zeros((N, 2), dtype=float)\n",
    "    # loop in evaluation panel i\n",
    "    for i, p_i in enumerate(panels):\n",
    "        # loop in main airfoil panel j\n",
    "        for j, p_j in enumerate(mains):\n",
    "            if i != j:    # jump if i,j are the same panel\n",
    "                a[i, 0] -= 0.5/numpy.pi*integral(p_i, p_j, p_i.ny, - p_i.nx)\n",
    "        # loop in flap airfoil panel j\n",
    "        for j, p_j in enumerate(flaps):\n",
    "            if i != (j+N/2):    # jump if i,j are the same panel\n",
    "                a[i, 1] -= 0.5/numpy.pi*integral(p_i, p_j, p_i.ny, - p_i.nx)\n",
    "    return a"
   ]
  },
  {
   "cell_type": "code",
   "execution_count": 456,
   "metadata": {
    "collapsed": true
   },
   "outputs": [],
   "source": [
    "def kutta_array(panels, a, b):\n",
    "    \"\"\"return N+2 x 1 array for main airfoil\"\"\"\n",
    "    p_a, p_b = panels[a], panels[b]\n",
    "    N = panels.size\n",
    "    mains = panels[:N/2]\n",
    "    flaps = panels[N/2:]\n",
    "    A = numpy.zeros(N+2, dtype=float)\n",
    "    \n",
    "    # calculate the coefficient of source strength\n",
    "    for j, p_j in enumerate(panels):\n",
    "        if j != a:\n",
    "            A[j] += 0.5/numpy.pi * integral(p_a, p_j, p_a.tx, p_a.ty)\n",
    "        if j != b:\n",
    "            A[j] += 0.5/numpy.pi * integral(p_b, p_j, p_b.tx, p_b.ty)\n",
    "    \n",
    "    # calculate the coefficient of vortex strength\n",
    "    # if a,b on main airfoil\n",
    "    if b <= N/2-1:\n",
    "        # main airfoil\n",
    "        for j, p_j in enumerate(mains):\n",
    "            if j != a:\n",
    "                A[-2] -= 0.5/numpy.pi * integral(p_a, p_j, p_a.ty, -p_a.tx)\n",
    "            else:\n",
    "                A[-2] -= 0.5\n",
    "            if j != b:\n",
    "                A[-2] -= 0.5/numpy.pi * integral(p_b, p_j, p_b.ty, -p_b.tx)\n",
    "            else:\n",
    "                A[-2] -= 0.5\n",
    "        # flap airfoil\n",
    "        for j, p_j in enumerate(flaps):\n",
    "            A[-1] -= 0.5/numpy.pi * integral(p_a, p_j, p_a.ty, -p_a.tx)\n",
    "            A[-1] -= 0.5/numpy.pi * integral(p_b, p_j, p_b.ty, -p_b.tx)\n",
    "    \n",
    "    # if a,b on flap airfoil\n",
    "    elif a >= N/2:\n",
    "        # main airfoil\n",
    "        for j, p_j in enumerate(mains):\n",
    "            A[-2] -= 0.5/numpy.pi * integral(p_a, p_j, p_a.ty, -p_a.tx)\n",
    "            A[-2] -= 0.5/numpy.pi * integral(p_b, p_j, p_b.ty, -p_b.tx)\n",
    "        # flap airfoil\n",
    "        for j, p_j in enumerate(flaps):\n",
    "            if (j+N/2) != a:\n",
    "                A[-1] -= 0.5/numpy.pi * integral(p_a, p_j, p_a.ty, -p_a.tx)\n",
    "            else:\n",
    "                A[-1] -= 0.5\n",
    "            if (j+N/2) !=b :\n",
    "                A[-1] -= 0.5/numpy.pi * integral(p_b, p_j, p_b.ty, -p_b.tx)\n",
    "            else:\n",
    "                A[-1] -= 0.5\n",
    "    return A"
   ]
  },
  {
   "cell_type": "code",
   "execution_count": 457,
   "metadata": {
    "code_folding": [],
    "collapsed": true
   },
   "outputs": [],
   "source": [
    "def build_matrix(panels):\n",
    "    N = panels.size\n",
    "    A = numpy.empty((N+2, N+2), dtype=float)\n",
    "    AS = source_matrix(panels)\n",
    "    av = vortex_array(panels)\n",
    "    k1 = kutta_array(panels, 0, N/2-1)\n",
    "    k2 = kutta_array(panels, N/2, N-1)\n",
    "    \n",
    "    A[:N, :N] = AS[:,:]\n",
    "    A[:N, N:] = av[:,:]\n",
    "    A[-2, :] = k1[:]\n",
    "    A[-1, :] = k2[:]\n",
    "    \n",
    "    return A"
   ]
  },
  {
   "cell_type": "code",
   "execution_count": 458,
   "metadata": {
    "collapsed": true
   },
   "outputs": [],
   "source": [
    "A = build_matrix(panels)"
   ]
  },
  {
   "cell_type": "code",
   "execution_count": 459,
   "metadata": {
    "code_folding": [],
    "collapsed": true
   },
   "outputs": [],
   "source": [
    "def build_rhs(panels, freestream):\n",
    "    N = panels.size\n",
    "    b = numpy.zeros(N+2, dtype=float)\n",
    "    for i, p_i in enumerate(panels):\n",
    "        b[i] = - freestream.u_inf * numpy.cos(freestream.alpha - p_i.beta)\n",
    "    # kutta condition main airfoil    \n",
    "    b[-2] = -freestream.u_inf * (numpy.sin(freestream.alpha-panels[0].beta)\n",
    "                               + numpy.sin(freestream.alpha-panels[N/2-1].beta))\n",
    "    # kutta condition flap airfoil\n",
    "    b[-1] = -freestream.u_inf * (numpy.sin(freestream.alpha-panels[N/2].beta)\n",
    "                               + numpy.sin(freestream.alpha-panels[N-1].beta))\n",
    "    return b"
   ]
  },
  {
   "cell_type": "code",
   "execution_count": 460,
   "metadata": {
    "code_folding": [],
    "collapsed": true
   },
   "outputs": [],
   "source": [
    "b = build_rhs(panels, freestream)"
   ]
  },
  {
   "cell_type": "code",
   "execution_count": 461,
   "metadata": {
    "collapsed": false
   },
   "outputs": [
    {
     "name": "stdout",
     "output_type": "stream",
     "text": [
      "--> sum of source/sink strengths: 0.0\n"
     ]
    }
   ],
   "source": [
    "# calculates the accuracy\n",
    "accuracy = sum([panel.sigma*panel.length for panel in panels])\n",
    "print '--> sum of source/sink strengths:', accuracy"
   ]
  },
  {
   "cell_type": "code",
   "execution_count": 462,
   "metadata": {
    "code_folding": [],
    "collapsed": true
   },
   "outputs": [],
   "source": [
    "# solves the linear system\n",
    "solution = numpy.linalg.solve(A, b)\n",
    "\n",
    "for i, panel in enumerate(panels):\n",
    "    panel.sigma = solution[i]\n",
    "gamma_m, gamma_f = solution[-2], solution[-1]"
   ]
  },
  {
   "cell_type": "code",
   "execution_count": 463,
   "metadata": {
    "code_folding": [
     0
    ],
    "collapsed": true
   },
   "outputs": [],
   "source": [
    "def tan_vel(panels, freestream, solution):\n",
    "    \"\"\"Calculate the tangential velocity for each panel\"\"\"\n",
    "    N = len(panels)\n",
    "    mains = panels[:N/2]\n",
    "    flaps = panels[N/2:]\n",
    "    A = numpy.zeros((N, N+2), dtype=float)\n",
    "    b = numpy.zeros(N, dtype=float)\n",
    "    for i, p_i in enumerate(panels):\n",
    "        # freestream\n",
    "        b[i] = freestream.u_inf * numpy.sin(freestream.alpha-p_i.beta)\n",
    "        # source\n",
    "        for j, p_j in enumerate(panels):\n",
    "            if i != j:\n",
    "                A[i, j] = 0.5/numpy.pi *integral(p_i, p_j, p_i.tx, p_i.ty)\n",
    "        # vortex\n",
    "        # i on main\n",
    "        if i < N/2:\n",
    "            # main wing contribution\n",
    "            for j, p_j in enumerate(mains):\n",
    "                if i != j:\n",
    "                    A[i, -2] -= 0.5/numpy.pi * integral(p_i, p_j, p_i.ty, -p_i.tx)\n",
    "                else:\n",
    "                    A[i, -2] -= 0.5\n",
    "            # flap wing contribution\n",
    "            for j, p_j in enumerate(flaps):\n",
    "                A[i, -1] -= 0.5/numpy.pi * integral(p_i, p_j, p_i.ty, -p_i.tx)\n",
    "        # i on flap\n",
    "        else:\n",
    "            # main wing contribution\n",
    "            for j, p_j in enumerate(mains):\n",
    "                A[i,-2] -= 0.5/numpy.pi * integral(p_i, p_j, p_i.ty, -p_i.tx)\n",
    "            # flap contribution\n",
    "            for j, p_j in enumerate(flaps):\n",
    "                if i != (j+N/2):\n",
    "                    A[i,-1] -= 0.5/numpy.pi * integral(p_i, p_j, p_i.ty, -p_i.tx)\n",
    "                else:\n",
    "                    A[i,-1] -= 0.5\n",
    "    \n",
    "    vt = numpy.dot(A, solution) + b\n",
    "    for i, panel in enumerate(panels):\n",
    "        panel.vt = vt[i]"
   ]
  },
  {
   "cell_type": "code",
   "execution_count": 464,
   "metadata": {
    "collapsed": true
   },
   "outputs": [],
   "source": [
    "tan_vel(panels, freestream, solution)"
   ]
  },
  {
   "cell_type": "code",
   "execution_count": 465,
   "metadata": {
    "code_folding": [],
    "collapsed": true
   },
   "outputs": [],
   "source": [
    "def eval_cp(panels, freestream):\n",
    "    for panel in panels:\n",
    "        panel.cp = 1 - (panel.vt/freestream.u_inf)**2"
   ]
  },
  {
   "cell_type": "code",
   "execution_count": 466,
   "metadata": {
    "collapsed": true
   },
   "outputs": [],
   "source": [
    "eval_cp(panels,freestream)"
   ]
  },
  {
   "cell_type": "code",
   "execution_count": 467,
   "metadata": {
    "code_folding": [],
    "collapsed": true
   },
   "outputs": [],
   "source": [
    "def eval_ld(panels):\n",
    "    L = 0.\n",
    "    D = 0.\n",
    "    for panel in panels:\n",
    "        L -= panel.cp*panel.length*panel.ny\n",
    "        D += panel.cp*panel.length*panel.nx\n",
    "    return L, D"
   ]
  },
  {
   "cell_type": "code",
   "execution_count": 468,
   "metadata": {
    "collapsed": false
   },
   "outputs": [
    {
     "name": "stdout",
     "output_type": "stream",
     "text": [
      "Lift     Drag\n",
      "1.74566935538 0.122090812293\n"
     ]
    }
   ],
   "source": [
    "Lift, Drag = eval_ld(panels)\n",
    "print \"Lift     Drag\"\n",
    "print Lift, Drag"
   ]
  },
  {
   "cell_type": "markdown",
   "metadata": {},
   "source": [
    "#### bisect to get aoa using script"
   ]
  },
  {
   "cell_type": "markdown",
   "metadata": {},
   "source": [
    "-11 -10\n",
    "\n",
    "-11 -10.5\n",
    "\n",
    "-11 -10.75\n",
    "\n",
    "-11 -10.875\n",
    "\n",
    "-11 -10.9375\n",
    "\n",
    "-10.96875"
   ]
  },
  {
   "cell_type": "markdown",
   "metadata": {},
   "source": [
    "#### bisect to get flap angle using script"
   ]
  },
  {
   "cell_type": "markdown",
   "metadata": {},
   "source": [
    "-5 -3\n",
    "\n",
    "-0.0292849385314 0.0906368512358\n",
    "\n",
    "-5 -4.0\n",
    "\n",
    "-0.0292849385314 0.030582254119\n",
    "\n",
    "-4.5"
   ]
  },
  {
   "cell_type": "code",
   "execution_count": 473,
   "metadata": {
    "collapsed": false
   },
   "outputs": [
    {
     "data": {
      "text/plain": [
       "0.14514113635548298"
      ]
     },
     "execution_count": 473,
     "metadata": {},
     "output_type": "execute_result"
    }
   ],
   "source": [
    "1- 1/numpy.sqrt(1.12804894952/0.824359758886)"
   ]
  },
  {
   "cell_type": "code",
   "execution_count": 474,
   "metadata": {
    "collapsed": false
   },
   "outputs": [
    {
     "data": {
      "text/plain": [
       "0.24212409015714498"
      ]
     },
     "execution_count": 474,
     "metadata": {},
     "output_type": "execute_result"
    }
   ],
   "source": [
    "1- 1/numpy.sqrt(1.43522694191/0.824359758886)"
   ]
  },
  {
   "cell_type": "code",
   "execution_count": 475,
   "metadata": {
    "collapsed": false
   },
   "outputs": [
    {
     "data": {
      "text/plain": [
       "0.3128091032748529"
      ]
     },
     "execution_count": 475,
     "metadata": {},
     "output_type": "execute_result"
    }
   ],
   "source": [
    "1- 1/numpy.sqrt(1.74566935538/0.824359758886)"
   ]
  },
  {
   "cell_type": "code",
   "execution_count": 469,
   "metadata": {
    "code_folding": [],
    "collapsed": false
   },
   "outputs": [
    {
     "data": {
      "application/javascript": [
       "IPython.load_extensions('IPython-notebook-extensions-3.x/usability/codefolding/main');"
      ],
      "text/plain": [
       "<IPython.core.display.Javascript object>"
      ]
     },
     "metadata": {},
     "output_type": "display_data"
    }
   ],
   "source": [
    "%%javascript\n",
    "IPython.load_extensions('IPython-notebook-extensions-3.x/usability/codefolding/main');"
   ]
  }
 ],
 "metadata": {
  "kernelspec": {
   "display_name": "Python 2",
   "language": "python",
   "name": "python2"
  },
  "language_info": {
   "codemirror_mode": {
    "name": "ipython",
    "version": 2
   },
   "file_extension": ".py",
   "mimetype": "text/x-python",
   "name": "python",
   "nbconvert_exporter": "python",
   "pygments_lexer": "ipython2",
   "version": "2.7.9"
  }
 },
 "nbformat": 4,
 "nbformat_minor": 0
}
