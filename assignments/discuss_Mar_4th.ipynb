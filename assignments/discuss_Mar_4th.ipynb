{
 "cells": [
  {
   "cell_type": "code",
   "execution_count": 2,
   "metadata": {
    "collapsed": true
   },
   "outputs": [],
   "source": [
    "import numpy\n",
    "from scipy.signal import argrelextrema\n",
    "from potential_flow import *\n",
    "from Joukowski_assign import *\n",
    "from matplotlib import pyplot, rcParams\n",
    "%matplotlib inline\n",
    "# customizing plot parameters\n",
    "rcParams['font.size'] = 16\n",
    "rcParams['font.family'] = 'StixGeneral'"
   ]
  },
  {
   "cell_type": "code",
   "execution_count": 14,
   "metadata": {
    "collapsed": true
   },
   "outputs": [],
   "source": [
    "N_th = 145\n",
    "th = numpy.linspace(0,2*numpy.pi, N_th)\n",
    "N_r = 100\n",
    "r0 = 1.15\n",
    "r = numpy.linspace(r0, 5 , N_r)\n",
    "x_c = -0.15"
   ]
  },
  {
   "cell_type": "code",
   "execution_count": 15,
   "metadata": {
    "collapsed": false
   },
   "outputs": [
    {
     "name": "stdout",
     "output_type": "stream",
     "text": [
      "(100,) (145,)\n"
     ]
    }
   ],
   "source": [
    "print numpy.shape(r), numpy.shape(th)"
   ]
  },
  {
   "cell_type": "code",
   "execution_count": 16,
   "metadata": {
    "collapsed": false
   },
   "outputs": [
    {
     "name": "stdout",
     "output_type": "stream",
     "text": [
      "[0, 1, 2, 3, 4, 5, 6, 7, 8, 9, 10, 11, 12, 13, 14, 15, 16, 17, 18, 19, 20, 21, 22, 23, 24, 25, 26, 27, 28, 29, 30, 31, 32, 33, 34, 35, 36, 37, 38, 39, 40, 41, 42, 43, 44, 45, 46, 47, 48, 49, 50, 51, 52, 53, 54, 55, 56, 57, 58, 59, 60, 61, 62, 63, 64, 65, 66, 67, 68, 69, 70, 71, 72, 73, 74, 75, 76, 77, 78, 79, 80, 81, 82, 83, 84, 85, 86, 87, 88, 89, 90, 91, 92, 93, 94, 95, 96, 97, 98, 99]\n"
     ]
    }
   ],
   "source": [
    "print range(100)"
   ]
  },
  {
   "cell_type": "markdown",
   "metadata": {},
   "source": [
    "z_2d = numpy.empty((N_r, N_th), dtype=numpy.complex128)\n",
    "print numpy.shape(z_2d[0,:])\n",
    "for i in range(N_r):\n",
    "    z_row = r[i] * numpy.exp(th * 1j) + x_c\n",
    "    z_2d[i,:] = z_row\n",
    "print numpy.shape(z_2d)"
   ]
  },
  {
   "cell_type": "code",
   "execution_count": 20,
   "metadata": {
    "collapsed": true
   },
   "outputs": [],
   "source": [
    "z_2d = numpy.empty((N_r, N_th), dtype=numpy.complex128)\n",
    "for i in range(N_r):\n",
    "    for j in range(N_th):\n",
    "        z_2d[i,j] = r[i] * numpy.exp(th[j] * 1j) + x_c"
   ]
  },
  {
   "cell_type": "code",
   "execution_count": 21,
   "metadata": {
    "collapsed": false
   },
   "outputs": [
    {
     "name": "stdout",
     "output_type": "stream",
     "text": [
      "(100, 145)\n"
     ]
    }
   ],
   "source": [
    "print numpy.shape(z_2d)"
   ]
  },
  {
   "cell_type": "code",
   "execution_count": null,
   "metadata": {
    "collapsed": true
   },
   "outputs": [],
   "source": []
  }
 ],
 "metadata": {
  "kernelspec": {
   "display_name": "Python 2",
   "language": "python",
   "name": "python2"
  },
  "language_info": {
   "codemirror_mode": {
    "name": "ipython",
    "version": 2
   },
   "file_extension": ".py",
   "mimetype": "text/x-python",
   "name": "python",
   "nbconvert_exporter": "python",
   "pygments_lexer": "ipython2",
   "version": "2.7.6"
  }
 },
 "nbformat": 4,
 "nbformat_minor": 0
}
